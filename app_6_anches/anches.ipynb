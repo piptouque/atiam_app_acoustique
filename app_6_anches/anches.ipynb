{
 "cells": [
  {
   "cell_type": "code",
   "execution_count": null,
   "metadata": {},
   "outputs": [],
   "source": [
    "%load_ext autoreload\n",
    "%autoreload 2\n",
    "import numpy as np\n",
    "import scipy.signal as sig\n",
    "import scipy.integrate as integ\n",
    "import matplotlib.pyplot as plt\n",
    "%matplotlib inline\n",
    "\n",
    "import_dir = os.path.abspath('..')\n",
    "if not import_dir in sys.path:\n",
    "    sys.path.append(import_dir)\n",
    "from utility.structure import Material, CylinderShape, StringSetting, StringPinch, String\n",
    "from utility.util import play, get_signal_from_modes"
   ]
  },
  {
   "cell_type": "code",
   "execution_count": null,
   "metadata": {},
   "outputs": [],
   "source": [
    "#\n",
    "H = 0.5 # ouverture en m\n",
    "l = 0.20\n",
    "c = 340 # m.s-1\n",
    "p_m = 2\n",
    "K_s = 3\n",
    "Q_1 = 40 # todo\n",
    "rho = 1.2\n",
    "w = 2 # m\n",
    "#\n",
    "#\n",
    "omega_n = lambda n: 2 * np.pi * (2 * n - 1) * c / (4 * l)\n",
    "omega_1 = omega_n(1)\n",
    "#\n",
    "Z_c = rho * c # todo\n",
    "u_A = w * np.power(H, 1.5) * np.sqrt(2 * K_s / rho) # todo\n",
    "p_M = K_s * H\n",
    "ksi = Z_c * u_A / p_M\n",
    "gamma = p_m / p_M\n",
    "Y_m1 = 2 * c * Q_1 / (l * omega_1)\n",
    "F_0 = ksi * (1 - gamma)*np.sqrt(gamma)\n",
    "F_1 = 2 * c / l\n",
    "A = ksi * (3 * gamma - 1) / (2 * np.sqrt(gamma))\n",
    "B = - ksi * (3 * gamma + 1) / (8 * np.power(gamma, 1.5))\n",
    "C = - ksi * (gamma + 1) / (16 * np.power(gamma, 2.5))\n",
    "\n",
    "def fun_ivp(t: np.ndarray, p: np.ndarray):\n",
    "    p_prime_2 = -(F_1*((Y_m1 - A) - 2 * B * p[0] - 3 * C * p[0] ** 2) * p[1] + omega_1 ** 2 * p[0])\n",
    "    return np.array([p[1], p_prime_2])\n",
    "\n",
    "t_0 = 0 # s\n",
    "t_f = 1\n",
    "p_0 = [20, 10]\n",
    "f_e = 500\n",
    "t_eval = np.linspace(0, 1, f_e)"
   ]
  },
  {
   "cell_type": "code",
   "execution_count": null,
   "metadata": {},
   "outputs": [],
   "source": [
    "o = integ.solve_ivp(fun=fun_ivp, t_span=(t_0, t_f), y0=p_0, t_eval=t_eval)"
   ]
  },
  {
   "cell_type": "code",
   "execution_count": null,
   "metadata": {},
   "outputs": [],
   "source": [
    "n = 200\n",
    "p = o.y[0][n:]\n",
    "t = o.t[n:]\n",
    "#\n",
    "p = np.tile(p, (10,))\n",
    "#\n",
    "plt.plot(p)\n",
    "print(p.shape, t.shape)"
   ]
  },
  {
   "cell_type": "code",
   "execution_count": null,
   "metadata": {},
   "outputs": [],
   "source": [
    "print(omega_1 / 2 / np.pi)\n",
    "play(p, Fe=f_e)"
   ]
  },
  {
   "cell_type": "code",
   "execution_count": null,
   "metadata": {},
   "outputs": [],
   "source": []
  }
 ],
 "metadata": {
  "interpreter": {
   "hash": "84373995aafbcce26432dfc68e1e75ff7ed8166ee4aef3a2f2cf080eb133f7d7"
  },
  "kernelspec": {
   "display_name": "Python 3.7.10 64-bit ('env_signal': conda)",
   "name": "python3"
  },
  "language_info": {
   "codemirror_mode": {
    "name": "ipython",
    "version": 3
   },
   "file_extension": ".py",
   "mimetype": "text/x-python",
   "name": "python",
   "nbconvert_exporter": "python",
   "pygments_lexer": "ipython3",
   "version": "3.7.10"
  }
 },
 "nbformat": 4,
 "nbformat_minor": 2
}
