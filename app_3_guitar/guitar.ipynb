{
 "cells": [
  {
   "cell_type": "code",
   "execution_count": 4,
   "metadata": {},
   "outputs": [],
   "source": [
    "import numpy as np\n",
    "import os\n",
    "import sys\n",
    "import matplotlib.pyplot as plt\n",
    "\n",
    "import_dir = os.path.abspath('..')\n",
    "if not import_dir in sys.path:\n",
    "    sys.path.append(import_dir)\n",
    "from utility.structure import Material, CylinderShape, StringSetting, StringPinch, String\n",
    "from utility.util import play, get_signal_from_modes"
   ]
  },
  {
   "cell_type": "code",
   "execution_count": 5,
   "metadata": {},
   "outputs": [],
   "source": [
    "mat = 'brass'\n",
    "env = 'air'\n",
    "l = 0.8 # longueur de la corde en mètres.\n",
    "d = 0.001 # diamètre de la corde en mètres.\n",
    "\n",
    "tau = 100\n",
    "boundaries = 'simply-supported'\n",
    "\n",
    "# Position de pincement : près du manche.\n",
    "x_p = 0.01 * l\n",
    "h = 0.02 # 2 cm semble raisonnable.\n",
    "\n",
    "\n",
    "string = String(CylinderShape(l, d), Material.make(mat))\n",
    "\n",
    "y_n = string.compute_transversal_eigenmodes(StringSetting(tau, boundaries, env), StringPinch(x_p, h))"
   ]
  },
  {
   "cell_type": "code",
   "execution_count": 7,
   "metadata": {},
   "outputs": [
    {
     "name": "stdout",
     "output_type": "stream",
     "text": [
      "[0.00000000e+00 2.08334201e-05 4.16668403e-05 ... 4.99995833e+00\n",
      " 4.99997917e+00 5.00000000e+00]\n",
      "(468.2834996110512-1.31956968391056j)\n",
      "(937.5237842582706-1.8660798206640243j)\n",
      "(1408.6776389778265-2.2854593704680335j)\n",
      "(1882.7018488058868-2.639017010076111j)\n",
      "(2360.5531987786203-2.9505088273345015j)\n",
      "(2843.188473932195-3.2321194687280217j)\n",
      "(3331.5644593027787-3.491087424550363j)\n",
      "(3826.63793992654-3.7321290517839394j)\n",
      "(4329.365700839647-3.9585203742146615j)\n"
     ]
    },
    {
     "name": "stderr",
     "output_type": "stream",
     "text": [
      "/home/xabbu/Documents/projets_gite/atiam/app_acoustique/utility/util.py:28: ComplexWarning: Casting complex values to real discards the imaginary part\n",
      "  vs[i] = y_n(i)(x_0, ts)\n"
     ]
    }
   ],
   "source": [
    "f_e = 48000 # Hertz\n",
    "nb_modes = 10 # nombre de modes à considérer.\n",
    "dur = 5 # secondes\n",
    "\n",
    "nb_samples = int(np.floor(f_e * dur))\n",
    "ts = np.linspace(start=0, stop=dur, num=nb_samples)\n",
    "# Position d'écoute : près du manche aussi ?\n",
    "x_0 = 0.5* l\n",
    "\n",
    "print(ts)\n",
    "y = get_signal_from_modes(y_n, nb_modes, ts, x_0)"
   ]
  },
  {
   "cell_type": "code",
   "execution_count": 2,
   "metadata": {},
   "outputs": [
    {
     "ename": "NameError",
     "evalue": "name 'play' is not defined",
     "output_type": "error",
     "traceback": [
      "\u001b[0;31m---------------------------------------------------------------------------\u001b[0m",
      "\u001b[0;31mNameError\u001b[0m                                 Traceback (most recent call last)",
      "\u001b[0;32m/tmp/ipykernel_7958/1344977550.py\u001b[0m in \u001b[0;36m<module>\u001b[0;34m\u001b[0m\n\u001b[0;32m----> 1\u001b[0;31m \u001b[0mplay\u001b[0m\u001b[0;34m(\u001b[0m\u001b[0my\u001b[0m\u001b[0;34m/\u001b[0m\u001b[0mnp\u001b[0m\u001b[0;34m.\u001b[0m\u001b[0mmax\u001b[0m\u001b[0;34m(\u001b[0m\u001b[0my\u001b[0m\u001b[0;34m)\u001b[0m\u001b[0;34m,\u001b[0m \u001b[0mf_e\u001b[0m\u001b[0;34m)\u001b[0m\u001b[0;34m\u001b[0m\u001b[0;34m\u001b[0m\u001b[0m\n\u001b[0m\u001b[1;32m      2\u001b[0m \u001b[0mplt\u001b[0m\u001b[0;34m.\u001b[0m\u001b[0mplot\u001b[0m\u001b[0;34m(\u001b[0m\u001b[0my\u001b[0m\u001b[0;34m)\u001b[0m\u001b[0;34m\u001b[0m\u001b[0;34m\u001b[0m\u001b[0m\n",
      "\u001b[0;31mNameError\u001b[0m: name 'play' is not defined"
     ]
    }
   ],
   "source": [
    "play(y/np.max(y), f_e)\n",
    "plt.plot(y)"
   ]
  },
  {
   "cell_type": "code",
   "execution_count": null,
   "metadata": {},
   "outputs": [],
   "source": []
  },
  {
   "cell_type": "code",
   "execution_count": null,
   "metadata": {},
   "outputs": [],
   "source": []
  }
 ],
 "metadata": {
  "interpreter": {
   "hash": "f71e3c9b90f791497ae31d0f7dc6411d834841749ae1b8a7d821392c01a640c1"
  },
  "kernelspec": {
   "display_name": "Python 3.7.10 64-bit ('env_signal': conda)",
   "name": "python3"
  },
  "language_info": {
   "codemirror_mode": {
    "name": "ipython",
    "version": 3
   },
   "file_extension": ".py",
   "mimetype": "text/x-python",
   "name": "python",
   "nbconvert_exporter": "python",
   "pygments_lexer": "ipython3",
   "version": "3.7.10"
  },
  "orig_nbformat": 4
 },
 "nbformat": 4,
 "nbformat_minor": 2
}
