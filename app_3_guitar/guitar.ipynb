{
 "cells": [
  {
   "cell_type": "code",
   "execution_count": null,
   "metadata": {},
   "outputs": [],
   "source": [
    "import numpy as np\n",
    "import os\n",
    "import sys\n",
    "import matplotlib.pyplot as plt\n",
    "\n",
    "import_dir = os.path.abspath('..')\n",
    "if not import_dir in sys.path:\n",
    "    sys.path.append(import_dir)\n",
    "from utility.structure import Material, CylinderShape, StringSetting, StringPinch, String\n",
    "from utility.util import play, get_signal_from_modes"
   ]
  },
  {
   "cell_type": "code",
   "execution_count": null,
   "metadata": {},
   "outputs": [],
   "source": [
    "mat = 'brass'\n",
    "env = 'air'\n",
    "l = 0.8 # longueur de la corde en mètres.\n",
    "d = 0.001 # diamètre de la corde en mètres.\n",
    "\n",
    "tau = 100\n",
    "boundaries = 'simply-supported'\n",
    "\n",
    "# Position de pincement : près du manche.\n",
    "x_p = 0.01 * l\n",
    "h = 0.02 # 2 cm semble raisonnable.\n",
    "\n",
    "\n",
    "string = String(CylinderShape(l, d), Material.make(mat))\n",
    "\n",
    "y_n = string.compute_transversal_eigenmodes(StringSetting(tau, boundaries, env), StringPinch(x_p, h))"
   ]
  },
  {
   "cell_type": "code",
   "execution_count": null,
   "metadata": {},
   "outputs": [],
   "source": [
    "f_e = 48000 # Hertz\n",
    "nb_modes = 10 # nombre de modes à considérer.\n",
    "dur = 5 # secondes\n",
    "\n",
    "nb_samples = int(np.floor(f_e * dur))\n",
    "ts = np.linspace(start=0, stop=dur, num=nb_samples)\n",
    "# Position d'écoute : près du manche aussi ?\n",
    "x_0 = 0.5* l\n",
    "\n",
    "print(ts)\n",
    "y = get_signal_from_modes(y_n, nb_modes, ts, x_0)\n",
    "y /= np.max(y)\n",
    "print(y.shape)"
   ]
  },
  {
   "cell_type": "code",
   "execution_count": null,
   "metadata": {},
   "outputs": [],
   "source": [
    "play(y, f_e)\n",
    "plt.plot(ts, y)"
   ]
  },
  {
   "cell_type": "code",
   "execution_count": null,
   "metadata": {},
   "outputs": [],
   "source": []
  },
  {
   "cell_type": "code",
   "execution_count": null,
   "metadata": {},
   "outputs": [],
   "source": []
  }
 ],
 "metadata": {
  "interpreter": {
   "hash": "f71e3c9b90f791497ae31d0f7dc6411d834841749ae1b8a7d821392c01a640c1"
  },
  "kernelspec": {
   "display_name": "Python 3.7.10 64-bit ('env_signal': conda)",
   "name": "python3"
  },
  "language_info": {
   "codemirror_mode": {
    "name": "ipython",
    "version": 3
   },
   "file_extension": ".py",
   "mimetype": "text/x-python",
   "name": "python",
   "nbconvert_exporter": "python",
   "pygments_lexer": "ipython3",
   "version": "3.7.10"
  }
 },
 "nbformat": 4,
 "nbformat_minor": 2
}
