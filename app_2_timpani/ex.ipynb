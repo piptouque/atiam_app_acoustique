{
 "cells": [
  {
   "cell_type": "code",
   "execution_count": 1,
   "source": [
    "import numpy as np\n",
    "import numpy.linalg as lin\n",
    "from typing import Tuple, List"
   ],
   "outputs": [],
   "metadata": {}
  },
  {
   "cell_type": "code",
   "execution_count": 2,
   "source": [
    "\n",
    "class TimpaniData:\n",
    "    def __init__(c_trans: float, alpha: float, b: float, b_3: float):\n",
    "        self.c_trans = c_trans\n",
    "        self.alpha = alpha\n",
    "        self.w_0 = 0\n",
    "        self.b = b # (paramètre de viscosité)\n",
    "        self.b_3 = b_3 # (coefficient relié à la force due au rayonnement de la membrane)\n",
    "\n",
    "\"\"\"[summary]\n",
    "Implements « Synthèse sonore de sons de tiimbale, A. Ramdane, 1990\n",
    "source: http://www.edpsciences.org/10.1051/jphyscol:19902201\n",
    "Differences in notation :\n",
    "- w is used as the name for the transversal displacement of the membrane.\n",
    "- n is used as the number of discrete time points (and not N).\n",
    "- The time iterator's name is k (and not n).\n",
    "\"\"\"\n",
    "class TimpaniSolver:\n",
    "    \n",
    "    def __init__(d: TimpaniData, dt, n: int):\n",
    "        \"\"\"[summary]\n",
    "        Args:\n",
    "            d (TimpaniData): [description]\n",
    "            steps (Tuple[float]): [description]\n",
    "            n (int): [description]\n",
    "        \"\"\"\n",
    "        self.d = d\n",
    "        self.dt = dt\n",
    "        # dx and dy are set from dt, so that we have r_1**2 + r_2**2 = 1\n",
    "        self.dx = self.dy = 2 / (self.dt * self.d.c_trans) ** 2\n",
    "        self.n = n\n",
    "\n",
    "        self.h = self.dx # ? not sure about what that's supposed to be, or the value.\n",
    "\n",
    "        self.r_1 = self.d.c_trans * self.dt / self.dx\n",
    "        self.r_2 = self.d.c_trans * self.dt / self.dy\n",
    "\n",
    "        self.epsilon_1 = lambda i, j, k: np.sqrt(self.n ** 2 - j ** 2)/self.h - i/self.h\n",
    "        self.epsilon_2 = lambda i, j, k: np.sqrt(self.n ** 2 - j ** 2)/self.h - i/self.h\n",
    "    \n",
    "    def compute_w(i, j, k):\n",
    "        \"\"\"[summary]\n",
    "\n",
    "        Args:\n",
    "            i ([type]): [description]\n",
    "            j ([type]): [description]\n",
    "            k ([type]): [description]\n",
    "        \"\"\"\n",
    "        if k <= 0:\n",
    "            # At $t_0$, the displacement is set everywhere on the membrane.\n",
    "            return self.d.w_0\n",
    "        region = self.__get_point_region((i, j))\n",
    "        w = None\n",
    "        if region == 0:\n",
    "            return self.d_w_0\n",
    "        else if region == 1:\n",
    "            e_1 = self.epsilon(i, j, k)\n",
    "            e_2 = self.epsilon(i, j, k)\n",
    "            a = 2 * self.r_1**2 / (1 + e_1 * self.h)\n",
    "            # pretty sure there is an error in the pdf of the article for this coefficient.\n",
    "            # for now, I copied it as-is.\n",
    "            b = - 2 * (self.r_1**2 (self.h / e_1 + h / e_2 - 1 )\n",
    "            c = 2 * self.r_1**2 / (1 + e_2 * h)\n",
    "            d = -1\n",
    "            #\n",
    "            # TODO: cache\n",
    "            return a * compute_w(i-1, j, k-1) + b * compute_w(i, j, k-1) + c * compute_w(i, j-1, k-1) + d * compute_w(i, j, k-2)\n",
    "        else:\n",
    "            pass \n",
    "        return w\n",
    "\n",
    "\n",
    "    def __get_point_region(self, p: Tuple[int]):\n",
    "        \"\"\"[summary]\n",
    "        Get the region of the (i, j) point,\n",
    "        can be 0: circular rim or outside\n",
    "            1: neighbourhood of the circular rim on the inside\n",
    "            2: inside the circle\n",
    "        Args:\n",
    "            n ([type]): [description]\n",
    "            p (Tuple[int]): Point of indices (i, j) in the grid.\n",
    "        \"\"\"\n",
    "        radius = self.n * 0.5\n",
    "        norm = lin.norm(np.array(p, dtype=np.float64))\n",
    "        diff = radius - norm\n",
    "        if norm < radius:\n",
    "            return 0\n",
    "        elif norm >= radius - 1:\n",
    "            return 1\n",
    "        else:\n",
    "            return 2 \n",
    "\n",
    "\n"
   ],
   "outputs": [
    {
     "output_type": "error",
     "ename": "SyntaxError",
     "evalue": "invalid syntax (3805963963.py, line 9)",
     "traceback": [
      "\u001b[0;36m  File \u001b[0;32m\"/tmp/ipykernel_6041/3805963963.py\"\u001b[0;36m, line \u001b[0;32m9\u001b[0m\n\u001b[0;31m    b = # paramètre de viscosité\u001b[0m\n\u001b[0m                                ^\u001b[0m\n\u001b[0;31mSyntaxError\u001b[0m\u001b[0;31m:\u001b[0m invalid syntax\n"
     ]
    }
   ],
   "metadata": {}
  },
  {
   "cell_type": "code",
   "execution_count": null,
   "source": [],
   "outputs": [],
   "metadata": {}
  }
 ],
 "metadata": {
  "orig_nbformat": 4,
  "language_info": {
   "name": "python",
   "version": "3.7.10",
   "mimetype": "text/x-python",
   "codemirror_mode": {
    "name": "ipython",
    "version": 3
   },
   "pygments_lexer": "ipython3",
   "nbconvert_exporter": "python",
   "file_extension": ".py"
  },
  "kernelspec": {
   "name": "python3",
   "display_name": "Python 3.7.10 64-bit ('env_signal': conda)"
  },
  "interpreter": {
   "hash": "84373995aafbcce26432dfc68e1e75ff7ed8166ee4aef3a2f2cf080eb133f7d7"
  }
 },
 "nbformat": 4,
 "nbformat_minor": 2
}